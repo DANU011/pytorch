{
  "nbformat": 4,
  "nbformat_minor": 0,
  "metadata": {
    "colab": {
      "provenance": [],
      "gpuType": "T4",
      "authorship_tag": "ABX9TyNtP5p3HdfpmfQfKimPqUQo",
      "include_colab_link": true
    },
    "kernelspec": {
      "name": "python3",
      "display_name": "Python 3"
    },
    "language_info": {
      "name": "python"
    }
  },
  "cells": [
    {
      "cell_type": "markdown",
      "metadata": {
        "id": "view-in-github",
        "colab_type": "text"
      },
      "source": [
        "<a href=\"https://colab.research.google.com/github/DANU011/pytorch/blob/main/mcode/%ED%8C%8C%EC%9D%B4%ED%86%A0%EC%B9%98_%EA%B8%B0%EC%B4%88.ipynb\" target=\"_parent\"><img src=\"https://colab.research.google.com/assets/colab-badge.svg\" alt=\"Open In Colab\"/></a>"
      ]
    },
    {
      "cell_type": "code",
      "execution_count": 2,
      "metadata": {
        "id": "aw267y1Zesf2"
      },
      "outputs": [],
      "source": [
        "# gpu 설정 - 수정 > 노트 설정 > 하드웨어 가속기 'GPU'\n",
        "import torch"
      ]
    },
    {
      "cell_type": "code",
      "source": [
        "# randn()함수 - torch안에서 매트릭스를 만드는데 2, 3 크기로 생성\n",
        "data = torch.randn(2, 3)\n",
        "# randn vs rand\n",
        "# randn : gaussian distribution(정규 분포) 평균 0 분산 1인 분포에서 랜덤하게 sampling 하겠다.\n",
        "# rand : uniform distribution(연속균등 분포)에서 [0, 1]에서 sampling 하겠다."
      ],
      "metadata": {
        "id": "0Y8_Auv_fGuY"
      },
      "execution_count": 2,
      "outputs": []
    },
    {
      "cell_type": "code",
      "source": [
        "data2 = torch.rand(2, 3)"
      ],
      "metadata": {
        "id": "hiwXzhEqggzU"
      },
      "execution_count": 7,
      "outputs": []
    },
    {
      "cell_type": "code",
      "source": [
        "print(data)"
      ],
      "metadata": {
        "colab": {
          "base_uri": "https://localhost:8080/"
        },
        "id": "aZeD3Yw7gBz1",
        "outputId": "e3ac00a9-fa95-4e41-9c15-2d58a6051981"
      },
      "execution_count": 3,
      "outputs": [
        {
          "output_type": "stream",
          "name": "stdout",
          "text": [
            "tensor([[ 0.6147,  1.5288, -0.9653],\n",
            "        [-1.0934,  0.9571,  1.1680]])\n"
          ]
        }
      ]
    },
    {
      "cell_type": "markdown",
      "source": [
        "텐서라는 클래스 안에 데이터 저장"
      ],
      "metadata": {
        "id": "DDS0uE--gLFC"
      }
    },
    {
      "cell_type": "code",
      "source": [
        "print(data)\n",
        "print(data * 5)\n",
        "print(data + data)\n",
        "print(data.shape)\n",
        "print(data.dtype)"
      ],
      "metadata": {
        "colab": {
          "base_uri": "https://localhost:8080/"
        },
        "id": "L5bTbBUWgFel",
        "outputId": "6a0d0eae-624f-41bc-e291-a0ede9f49685"
      },
      "execution_count": 4,
      "outputs": [
        {
          "output_type": "stream",
          "name": "stdout",
          "text": [
            "tensor([[ 0.6147,  1.5288, -0.9653],\n",
            "        [-1.0934,  0.9571,  1.1680]])\n",
            "tensor([[ 3.0734,  7.6438, -4.8267],\n",
            "        [-5.4669,  4.7857,  5.8401]])\n",
            "tensor([[ 1.2294,  3.0575, -1.9307],\n",
            "        [-2.1867,  1.9143,  2.3360]])\n",
            "torch.Size([2, 3])\n",
            "torch.float32\n"
          ]
        }
      ]
    },
    {
      "cell_type": "code",
      "source": [
        "# 데이터를 생성하는 여러 방법\n",
        "data = torch.zeros([2, 4])\n",
        "print(data)\n",
        "data = torch.ones([2, 4])\n",
        "print(data)\n",
        "data = torch.eye(4)\n",
        "print(data)\n"
      ],
      "metadata": {
        "colab": {
          "base_uri": "https://localhost:8080/"
        },
        "id": "BRqdaqfmg6NL",
        "outputId": "6425b1dd-0db6-4417-eefa-9ec4c9717a18"
      },
      "execution_count": 10,
      "outputs": [
        {
          "output_type": "stream",
          "name": "stdout",
          "text": [
            "tensor([[0., 0., 0., 0.],\n",
            "        [0., 0., 0., 0.]])\n",
            "tensor([[1., 1., 1., 1.],\n",
            "        [1., 1., 1., 1.]])\n",
            "tensor([[1., 0., 0., 0.],\n",
            "        [0., 1., 0., 0.],\n",
            "        [0., 0., 1., 0.],\n",
            "        [0., 0., 0., 1.]])\n"
          ]
        }
      ]
    },
    {
      "cell_type": "code",
      "source": [
        "# list와 차이점 및 벡터 내적 등 수월하게 사용 가능\n",
        "lst1 = [1, 2]\n",
        "lst2 = [3, 4]\n",
        "\n",
        "tor1 = torch.tensor([1, 2])\n",
        "tor2 = torch.tensor([3, 4])\n",
        "\n",
        "print(tor1 + tor2)\n",
        "print(tor1 * tor2)\n",
        "print(lst1 + lst2) # 단순히 concat. 연산 안됨.\n",
        "print(lst1 * lst2) # can't multiply sequence by non-int of type 'list'\n"
      ],
      "metadata": {
        "colab": {
          "base_uri": "https://localhost:8080/",
          "height": 237
        },
        "id": "QQbdSd9XkBNe",
        "outputId": "52ee3ee0-8eeb-4537-82d2-979d241ab338"
      },
      "execution_count": 6,
      "outputs": [
        {
          "output_type": "stream",
          "name": "stdout",
          "text": [
            "tensor([4, 6])\n",
            "tensor([3, 8])\n",
            "[1, 2, 3, 4]\n"
          ]
        },
        {
          "output_type": "error",
          "ename": "TypeError",
          "evalue": "can't multiply sequence by non-int of type 'list'",
          "traceback": [
            "\u001b[0;31m---------------------------------------------------------------------------\u001b[0m",
            "\u001b[0;31mTypeError\u001b[0m                                 Traceback (most recent call last)",
            "\u001b[0;32m<ipython-input-6-370371d04b9a>\u001b[0m in \u001b[0;36m<cell line: 11>\u001b[0;34m()\u001b[0m\n\u001b[1;32m      9\u001b[0m \u001b[0mprint\u001b[0m\u001b[0;34m(\u001b[0m\u001b[0mtor1\u001b[0m \u001b[0;34m*\u001b[0m \u001b[0mtor2\u001b[0m\u001b[0;34m)\u001b[0m\u001b[0;34m\u001b[0m\u001b[0;34m\u001b[0m\u001b[0m\n\u001b[1;32m     10\u001b[0m \u001b[0mprint\u001b[0m\u001b[0;34m(\u001b[0m\u001b[0mlst1\u001b[0m \u001b[0;34m+\u001b[0m \u001b[0mlst2\u001b[0m\u001b[0;34m)\u001b[0m \u001b[0;31m# 단순히 concat. 연산 안됨.\u001b[0m\u001b[0;34m\u001b[0m\u001b[0;34m\u001b[0m\u001b[0m\n\u001b[0;32m---> 11\u001b[0;31m \u001b[0mprint\u001b[0m\u001b[0;34m(\u001b[0m\u001b[0mlst1\u001b[0m \u001b[0;34m*\u001b[0m \u001b[0mlst2\u001b[0m\u001b[0;34m)\u001b[0m \u001b[0;31m# can't multiply sequence by non-int of type 'list'\u001b[0m\u001b[0;34m\u001b[0m\u001b[0;34m\u001b[0m\u001b[0m\n\u001b[0m",
            "\u001b[0;31mTypeError\u001b[0m: can't multiply sequence by non-int of type 'list'"
          ]
        }
      ]
    },
    {
      "cell_type": "code",
      "source": [
        "print(sum(tor1 + tor2)) # [4, 6]의 합\n",
        "print(tor1.dot(tor2)) # 1 * 3 + 2 * 4 + = 11\n",
        "print(torch.dot(tor1, tor2))\n",
        "print(torch.matmul(tor1, tor2))\n",
        "print(torch.matmul(tor1.view(1, -1), tor2)[0]) # view() shape 맞춰줄 때 사용\n"
      ],
      "metadata": {
        "colab": {
          "base_uri": "https://localhost:8080/"
        },
        "id": "tewZ7ahClWQD",
        "outputId": "de7aa1a3-b49f-4848-cb7f-b0ac43c20986"
      },
      "execution_count": 15,
      "outputs": [
        {
          "output_type": "stream",
          "name": "stdout",
          "text": [
            "tensor(10)\n",
            "tensor(11)\n",
            "tensor(11)\n",
            "tensor(11)\n",
            "tensor(11)\n"
          ]
        }
      ]
    },
    {
      "cell_type": "code",
      "source": [
        "# 매트릭스의 곱 ( Matrix Multiplication)\n",
        "mat1 = torch.tensor([[2, 5, 8], [5, 3, 1]]) # shape(2, 3)\n",
        "mat2 = torch.tensor([[3, 2], [5, 4], [7, 8]]) # shape(3, 2)\n",
        "print(mat1)\n",
        "print(mat2)\n",
        "print(torch.matmul(mat1, mat2)) # matrix 2 * 2\n",
        "print(torch.matmul(mat2, mat1)) # matrix 3 * 3\n"
      ],
      "metadata": {
        "colab": {
          "base_uri": "https://localhost:8080/"
        },
        "id": "rxO-X7Oymmqv",
        "outputId": "97a7cf81-6055-4287-bb78-1b22c6594b1c"
      },
      "execution_count": 17,
      "outputs": [
        {
          "output_type": "stream",
          "name": "stdout",
          "text": [
            "tensor([[2, 5, 8],\n",
            "        [5, 3, 1]])\n",
            "tensor([[3, 2],\n",
            "        [5, 4],\n",
            "        [7, 8]])\n",
            "tensor([[87, 88],\n",
            "        [37, 30]])\n",
            "tensor([[16, 21, 26],\n",
            "        [30, 37, 44],\n",
            "        [54, 59, 64]])\n"
          ]
        }
      ]
    },
    {
      "cell_type": "code",
      "source": [
        "# 인덱싱 / 슬라이싱\n",
        "data = torch.randn(4, 3)\n",
        "print(data)\n",
        "print(data[2, :]) # row vector\n",
        "print(data[:, 1]) # column vector\n",
        "print(data[2][1]) # matrix A의 (2, 1)의 값\n"
      ],
      "metadata": {
        "colab": {
          "base_uri": "https://localhost:8080/"
        },
        "id": "TW_5jqI_nZXN",
        "outputId": "29cee1a3-bce2-443e-c06a-0c10e6675b96"
      },
      "execution_count": 3,
      "outputs": [
        {
          "output_type": "stream",
          "name": "stdout",
          "text": [
            "tensor([[-1.1057,  0.2192,  1.7847],\n",
            "        [ 0.0839,  1.5270, -1.0139],\n",
            "        [-0.0279, -0.1419,  2.3965],\n",
            "        [-0.0291,  0.2397, -1.3425]])\n",
            "tensor([-0.0279, -0.1419,  2.3965])\n",
            "tensor([ 0.2192,  1.5270, -0.1419,  0.2397])\n",
            "tensor(-0.1419)\n"
          ]
        }
      ]
    },
    {
      "cell_type": "code",
      "source": [
        "# 기본적인 통계 관련 함수 - 파이썬이도 있지만 torch 안에서는 torch 함수의 연산이 더 빠름\n",
        "print(torch.sum(data))\n",
        "print(torch.mean(data))\n",
        "print(torch.var(data)) # 분산\n",
        "print(torch.std(data)) # 표준편차\n",
        "print()\n",
        "# scalar value에 대해서 tensor 속의 값만 추출함. 풀어줌.\n",
        "print(torch.sum(data).item())\n",
        "print(torch.mean(data).item())\n",
        "print(torch.var(data).item())\n",
        "print(torch.std(data).item())"
      ],
      "metadata": {
        "colab": {
          "base_uri": "https://localhost:8080/"
        },
        "id": "KDzev6J-oE6O",
        "outputId": "51f03111-b04b-42e5-89cf-42efa652da73"
      },
      "execution_count": 4,
      "outputs": [
        {
          "output_type": "stream",
          "name": "stdout",
          "text": [
            "tensor(2.5900)\n",
            "tensor(0.2158)\n",
            "tensor(1.3535)\n",
            "tensor(1.1634)\n",
            "\n",
            "2.590029001235962\n",
            "0.21583575010299683\n",
            "1.353468656539917\n",
            "1.1633867025375366\n"
          ]
        }
      ]
    },
    {
      "cell_type": "code",
      "source": [
        "# Pytorch 조건문\n",
        "print(torch.where(data > 0, torch.ones(data.shape), torch.zeros(data.shape)))"
      ],
      "metadata": {
        "colab": {
          "base_uri": "https://localhost:8080/"
        },
        "id": "4hjSC_bSpCec",
        "outputId": "b458d780-49bc-4f84-b56b-f34c6fd4cf72"
      },
      "execution_count": 5,
      "outputs": [
        {
          "output_type": "stream",
          "name": "stdout",
          "text": [
            "tensor([[0., 1., 1.],\n",
            "        [1., 1., 0.],\n",
            "        [0., 0., 1.],\n",
            "        [0., 1., 0.]])\n"
          ]
        }
      ]
    },
    {
      "cell_type": "code",
      "source": [],
      "metadata": {
        "id": "KyqwDMxXrXVm"
      },
      "execution_count": null,
      "outputs": []
    }
  ]
}